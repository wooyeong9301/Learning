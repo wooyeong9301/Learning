{
 "cells": [
  {
   "cell_type": "markdown",
   "id": "eedf2fd1",
   "metadata": {},
   "source": [
    "## Functions"
   ]
  },
  {
   "cell_type": "code",
   "execution_count": null,
   "id": "26b8ff0a",
   "metadata": {},
   "outputs": [],
   "source": [
    "def remainder1(a,b,c=100):\n",
    "    '''\n",
    "    Computes the remaincer of dividing a by b\n",
    "    '''\n",
    "    q = a // b\n",
    "    r = a - q * b\n",
    "    return r,c\n",
    "remainder(14,3)"
   ]
  },
  {
   "cell_type": "code",
   "execution_count": null,
   "id": "8a87b793",
   "metadata": {},
   "outputs": [],
   "source": [
    "def remainder2(a,b):\n",
    "    '''\n",
    "    Computes the remaincer of dividing a by b\n",
    "    '''\n",
    "    q = a // b\n",
    "    r = a - q * b\n",
    "    return (q,r)\n",
    "remainder(13,5)"
   ]
  },
  {
   "cell_type": "code",
   "execution_count": null,
   "id": "dbc0e988",
   "metadata": {},
   "outputs": [],
   "source": [
    "a = 3\n",
    "\n",
    "def hio():\n",
    "    return a\n",
    "hio()"
   ]
  },
  {
   "cell_type": "markdown",
   "id": "652137b4",
   "metadata": {},
   "source": [
    "## Exceptions"
   ]
  },
  {
   "cell_type": "markdown",
   "id": "6bcfd9b7",
   "metadata": {},
   "source": [
    "## Program Termination"
   ]
  },
  {
   "cell_type": "markdown",
   "id": "d317abe1",
   "metadata": {},
   "source": [
    "## Objects and Classes"
   ]
  },
  {
   "cell_type": "markdown",
   "id": "4650370e",
   "metadata": {},
   "source": [
    "프로그램에서 사용되는 모든 값들은 객체입니다. 그리고 객체는 내부적 데이터들과 그 데이터와 관계된 많은 작업을 수행하는 메소드들로 구성되어 있습니다. 예를 들면 문자열이나 리스트도 객체입니다.   \n",
    "아래의 `dir()` 함수는 객체에 사용할 수 있는 메소드를 보여줍니다. `append()`처럼 익숙한 메소드도 있지만 앞,뒤에 `__`가 붙어있는 메소드들도 있습니다. 이런 메소드들은 나중에 다시 설명하겠습니다."
   ]
  },
  {
   "cell_type": "code",
   "execution_count": 4,
   "id": "7eebf671",
   "metadata": {},
   "outputs": [
    {
     "name": "stdout",
     "output_type": "stream",
     "text": [
      "['__add__', '__class__', '__class_getitem__', '__contains__', '__delattr__', '__delitem__', '__dir__', '__doc__', '__eq__', '__format__', '__ge__', '__getattribute__', '__getitem__', '__gt__', '__hash__', '__iadd__', '__imul__', '__init__', '__init_subclass__', '__iter__', '__le__', '__len__', '__lt__', '__mul__', '__ne__', '__new__', '__reduce__', '__reduce_ex__', '__repr__', '__reversed__', '__rmul__', '__setattr__', '__setitem__', '__sizeof__', '__str__', '__subclasshook__', 'append', 'clear', 'copy', 'count', 'extend', 'index', 'insert', 'pop', 'remove', 'reverse', 'sort']\n"
     ]
    }
   ],
   "source": [
    "items = []\n",
    "print(dir(items))"
   ]
  },
  {
   "cell_type": "markdown",
   "id": "245f5049",
   "metadata": {},
   "source": [
    "`class`문은 새로운 객체를 정의하고, 객체지향적 프로그래밍을 위해 사용됩니다. 아래의 코드는 `push()`와 `pop()` 작업을 수행하는 stack클래스를 정의한 것입니다.   \n",
    "`class` 정의 안에서 메소드는 `def`문으로 정의되고 각 메소드의 첫 인자는 항상 객체 자신을 참조하며 관습적으로 `self`라는 이름을 사용합니다. 겍체의 속성과 관련되는 모든 작업은 `self` 변수를 명시적으로 참조해야 합니다.   \n",
    "앞,뒤에 `__`가 붙은 메소드는 좀 특별합니다. `__init__` 같은 경우는 객체를 초기화하는데, 아래 코드의 경우 데이터를 저장할 내부적인 리스트를 만듭니다."
   ]
  },
  {
   "cell_type": "code",
   "execution_count": 5,
   "id": "283d6c6b",
   "metadata": {},
   "outputs": [],
   "source": [
    "class Stack:\n",
    "    def __init__(self):\n",
    "        self._items = []\n",
    "        \n",
    "    def push(self, item):\n",
    "        self._items.append(item)\n",
    "    \n",
    "    def pop(self):\n",
    "        return self._items.pop()\n",
    "    \n",
    "    def __len__(self):\n",
    "        return len(self._items)\n",
    "    \n",
    "    def __repr__(self):\n",
    "        return f'<{type(self)._itmes} at 0x{id(self):x}, size={len(self)}>'"
   ]
  },
  {
   "cell_type": "code",
   "execution_count": 13,
   "id": "ce7ec3c7",
   "metadata": {},
   "outputs": [
    {
     "name": "stdout",
     "output_type": "stream",
     "text": [
      "x : 42 y : Dave\n"
     ]
    }
   ],
   "source": [
    "s = Stack()\n",
    "s.push('Dave')\n",
    "s.push(42)\n",
    "x, y = s.pop(), s.pop()\n",
    "print('x :', x,'y :' ,y)"
   ]
  },
  {
   "cell_type": "markdown",
   "id": "a1c637cf",
   "metadata": {},
   "source": [
    "파이썬은 데이터를 숨기거나 보호할 메커니즘이 없습니다. 하지만, 관습적으로 이름이 `_`로 시작하는 변수를 'private'으로 취급합니다. 위의 코드에서 `_items`는 내부적으로 시행되는 것으로 취급해야 하고, stack class 외부에선 호출하면 안됩니다. 하지만 관습적일 뿐 언제든 접근할 수는 있습니다."
   ]
  },
  {
   "cell_type": "code",
   "execution_count": 14,
   "id": "83443713",
   "metadata": {},
   "outputs": [],
   "source": [
    "class MyStack(Stack):\n",
    "    def swap(self):\n",
    "        a, b = self.pop(), self.pop()\n",
    "        self.push(a)\n",
    "        self.push(b)"
   ]
  },
  {
   "cell_type": "code",
   "execution_count": 24,
   "id": "c962cd75",
   "metadata": {},
   "outputs": [
    {
     "data": {
      "text/plain": [
       "'Dave'"
      ]
     },
     "execution_count": 24,
     "metadata": {},
     "output_type": "execute_result"
    }
   ],
   "source": [
    "s = MyStack()\n",
    "s.push('Dave')\n",
    "s.push(42)\n",
    "s.swap()\n",
    "s.pop()"
   ]
  },
  {
   "cell_type": "code",
   "execution_count": 25,
   "id": "e5983d7a",
   "metadata": {},
   "outputs": [],
   "source": [
    "class NumericStack(Stack):\n",
    "    def push(self, item):\n",
    "        if not isinstance(item, (int,float)):\n",
    "            raise TypeError('Expected an int or float')\n",
    "        super().push(item)"
   ]
  },
  {
   "cell_type": "code",
   "execution_count": 26,
   "id": "92ebc181",
   "metadata": {},
   "outputs": [
    {
     "data": {
      "text/plain": [
       "'Dave'"
      ]
     },
     "execution_count": 26,
     "metadata": {},
     "output_type": "execute_result"
    }
   ],
   "source": [
    "s = MyStack()\n",
    "s.push('Dave')\n",
    "s.pop()"
   ]
  },
  {
   "cell_type": "code",
   "execution_count": 29,
   "id": "318377ee",
   "metadata": {},
   "outputs": [
    {
     "ename": "TypeError",
     "evalue": "Expected an int or float",
     "output_type": "error",
     "traceback": [
      "\u001b[0;31m---------------------------------------------------------------------------\u001b[0m",
      "\u001b[0;31mTypeError\u001b[0m                                 Traceback (most recent call last)",
      "Input \u001b[0;32mIn [29]\u001b[0m, in \u001b[0;36m<cell line: 3>\u001b[0;34m()\u001b[0m\n\u001b[1;32m      1\u001b[0m ns \u001b[38;5;241m=\u001b[39m NumericStack()\n\u001b[1;32m      2\u001b[0m ns\u001b[38;5;241m.\u001b[39mpush(\u001b[38;5;241m42\u001b[39m)\n\u001b[0;32m----> 3\u001b[0m \u001b[43mns\u001b[49m\u001b[38;5;241;43m.\u001b[39;49m\u001b[43mpush\u001b[49m\u001b[43m(\u001b[49m\u001b[38;5;124;43m'\u001b[39;49m\u001b[38;5;124;43mDave\u001b[39;49m\u001b[38;5;124;43m'\u001b[39;49m\u001b[43m)\u001b[49m\n",
      "Input \u001b[0;32mIn [25]\u001b[0m, in \u001b[0;36mNumericStack.push\u001b[0;34m(self, item)\u001b[0m\n\u001b[1;32m      2\u001b[0m \u001b[38;5;28;01mdef\u001b[39;00m \u001b[38;5;21mpush\u001b[39m(\u001b[38;5;28mself\u001b[39m, item):\n\u001b[1;32m      3\u001b[0m     \u001b[38;5;28;01mif\u001b[39;00m \u001b[38;5;129;01mnot\u001b[39;00m \u001b[38;5;28misinstance\u001b[39m(item, (\u001b[38;5;28mint\u001b[39m,\u001b[38;5;28mfloat\u001b[39m)):\n\u001b[0;32m----> 4\u001b[0m         \u001b[38;5;28;01mraise\u001b[39;00m \u001b[38;5;167;01mTypeError\u001b[39;00m(\u001b[38;5;124m'\u001b[39m\u001b[38;5;124mExpected an int or float\u001b[39m\u001b[38;5;124m'\u001b[39m)\n\u001b[1;32m      5\u001b[0m     \u001b[38;5;28msuper\u001b[39m()\u001b[38;5;241m.\u001b[39mpush(item)\n",
      "\u001b[0;31mTypeError\u001b[0m: Expected an int or float"
     ]
    }
   ],
   "source": [
    "ns = NumericStack()\n",
    "ns.push(42)\n",
    "ns.push('Dave')"
   ]
  },
  {
   "cell_type": "code",
   "execution_count": null,
   "id": "2e20683e",
   "metadata": {},
   "outputs": [],
   "source": [
    "class Calculator:\n",
    "    def __init__(self):\n",
    "        self._stack = Stack()\n",
    "        \n",
    "    def push(self, item):\n",
    "        self._stack.push(item)\n",
    "        \n",
    "    def pop(self):\n",
    "        return self._stack.pop()\n",
    "    \n",
    "    def add(self):\n",
    "        self.push(self.pop() + self.pop())\n",
    "        \n",
    "    def mul(self):\n",
    "        self.push(self.pop() * self.pop())\n",
    "        \n",
    "    def sub(self):\n",
    "        right = self.pop()\n",
    "        self.push(self.pop()-right)\n",
    "        \n",
    "    def div(self):\n",
    "        right = self.pop()\n",
    "        self.push(self.pop() / right)"
   ]
  },
  {
   "cell_type": "markdown",
   "id": "85f70238",
   "metadata": {},
   "source": [
    "## Modules"
   ]
  },
  {
   "cell_type": "markdown",
   "id": "f8d16e62",
   "metadata": {},
   "source": [
    "##  Script Writing"
   ]
  },
  {
   "cell_type": "markdown",
   "id": "dcfa5dde",
   "metadata": {},
   "source": [
    "## Packages"
   ]
  },
  {
   "cell_type": "markdown",
   "id": "17e9d0bf",
   "metadata": {},
   "source": [
    "## Structuring an Application"
   ]
  },
  {
   "cell_type": "markdown",
   "id": "deb9f24c",
   "metadata": {},
   "source": [
    "## Managing Third Party Packages"
   ]
  },
  {
   "cell_type": "code",
   "execution_count": null,
   "id": "cc87ec85",
   "metadata": {},
   "outputs": [],
   "source": []
  }
 ],
 "metadata": {
  "kernelspec": {
   "display_name": "Python 3 (ipykernel)",
   "language": "python",
   "name": "python3"
  },
  "language_info": {
   "codemirror_mode": {
    "name": "ipython",
    "version": 3
   },
   "file_extension": ".py",
   "mimetype": "text/x-python",
   "name": "python",
   "nbconvert_exporter": "python",
   "pygments_lexer": "ipython3",
   "version": "3.9.7"
  }
 },
 "nbformat": 4,
 "nbformat_minor": 5
}
