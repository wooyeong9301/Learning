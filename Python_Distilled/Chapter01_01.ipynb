{
 "cells": [
  {
   "cell_type": "markdown",
   "id": "0d3155ac",
   "metadata": {},
   "source": [
    "## Primitives, Variables, and Expressions"
   ]
  },
  {
   "cell_type": "markdown",
   "id": "f2d7ba18",
   "metadata": {},
   "source": [
    "파이썬은 integers, floats, strings와 boolean의 원시적인 데이터 타입을 제공합니다.   \n",
    "'변수'는 '값'을 참조하는 이름이고, 값은 한 타입의 겍체를 나타냅니다. 아래처럼 변수에 데이터 타입을 명시적으로 나타낼 수 있습니다. 하지만 코드의 가독성에 도움을 주거나 다른 서드파티 코드 체킹 도구에서 사용할 수 있게 해줄 뿐입니다. 실제 값과 다른 데이터 타입을 할당할 순 없습니다."
   ]
  },
  {
   "cell_type": "code",
   "execution_count": 15,
   "id": "e950d1a2",
   "metadata": {},
   "outputs": [
    {
     "name": "stdout",
     "output_type": "stream",
     "text": [
      "<class 'int'> <class 'float'>\n"
     ]
    }
   ],
   "source": [
    "x: int = 42\n",
    "y: int = 4.4\n",
    "\n",
    "print(type(x), type(y))"
   ]
  },
  {
   "cell_type": "markdown",
   "id": "d21eee67",
   "metadata": {},
   "source": [
    "'표현식'은 '값'을 만들어내는 primitives, names, and operators의 조합이다."
   ]
  },
  {
   "cell_type": "code",
   "execution_count": 16,
   "id": "2961d66e",
   "metadata": {},
   "outputs": [
    {
     "data": {
      "text/plain": [
       "14"
      ]
     },
     "execution_count": 16,
     "metadata": {},
     "output_type": "execute_result"
    }
   ],
   "source": [
    "2 + 3 * 4"
   ]
  },
  {
   "cell_type": "markdown",
   "id": "0b5ae807",
   "metadata": {},
   "source": [
    "아래 코드는 복리 이자 계산을 위해 변수와 표현식을 사용하는 것을 보여줍니다.   \n",
    "`while`문은 조건을 검사하여 조건이 참이면 구문을 시행하며, 조건이 거짓이 될 때까지 시행을 반복하고 조건이 거짓이 되면 구문을 종료합니다.   \n",
    "아래 `while`문에선 `f-string`과 `format`형식을 이용한 출력 방법도 제시하고 있습니다. `>3d`는 3자리로 표현하고 오른쪽 정렬을 의미하고, `0.2f`는 소수점 아래 2번째 자리까지 표현하라는 의미입니다. 이와 관련된 자세한 내용은 뒤에 다시 다루겠습니다.   \n",
    "또한, 파이썬은 들여쓰기의 기준을 특정하지 않기에 같은 블럭 안에서 일관성만 유지하면 문제가 없습니다. 하지만 4번의 스페이스 공백을 사용하는 것이 일반적입니다.  "
   ]
  },
  {
   "cell_type": "code",
   "execution_count": 115,
   "id": "28f14ac7",
   "metadata": {},
   "outputs": [
    {
     "name": "stdout",
     "output_type": "stream",
     "text": [
      "1 1050.0\n",
      "  1 1050.00\n",
      "1          1050.00\n",
      "2 1102.5\n",
      "  2 1102.50\n",
      "2          1102.50\n"
     ]
    }
   ],
   "source": [
    "principal = 1000\n",
    "rate = 0.05\n",
    "numyears = 2\n",
    "year = 1\n",
    "\n",
    "while year <= numyears:\n",
    "    principal = principal * (1+rate) # principal *= (1+rate)\n",
    "    print(year, principal)\n",
    "    print(f'{year:>3d} {principal:0.2f}')\n",
    "    print('{:<10d} {:0.2f}'.format(year, principal))\n",
    "    year += 1"
   ]
  },
  {
   "cell_type": "markdown",
   "id": "7dbfe90d",
   "metadata": {},
   "source": [
    "## Arithmetic Operators"
   ]
  },
  {
   "cell_type": "markdown",
   "id": "d792e2d1",
   "metadata": {},
   "source": [
    "파이썬은 다른 대부분의 프로그래밍 언어와 같은 표준 연산자 집합을 갖고 있습니다."
   ]
  },
  {
   "cell_type": "code",
   "execution_count": 26,
   "id": "aa966a90",
   "metadata": {},
   "outputs": [
    {
     "name": "stdout",
     "output_type": "stream",
     "text": [
      "x + y =  11\tx - y =  3\tx * y =  28\tx / y =  1.75\n",
      "x // y =  1\tx ** y = 2401\tx % y =  3\n"
     ]
    }
   ],
   "source": [
    "x, y = 7, 4\n",
    "print('x + y = ', x+y, end='\\t')\n",
    "print('x - y = ', x-y, end= '\\t')\n",
    "print('x * y = ', x*y, end= '\\t')\n",
    "print('x / y = ', x/y)\n",
    "print('x // y = ', x//y, end='\\t')\n",
    "print('x ** y =', x**y, end= '\\t')\n",
    "print('x % y = ', x%y)"
   ]
  },
  {
   "cell_type": "markdown",
   "id": "d22078ba",
   "metadata": {},
   "source": [
    "그 외에 수 연산을 위한 몇 개의 built-in 함수들도 있습니다.   \n",
    "`round()` 함수는......."
   ]
  },
  {
   "cell_type": "code",
   "execution_count": 58,
   "id": "58068667",
   "metadata": {},
   "outputs": [
    {
     "name": "stdout",
     "output_type": "stream",
     "text": [
      "-5의 절대값 : 5\t\tdivmod(7, 4) : (1, 3)\n",
      "pow(7, 4) : 2401\tpow(7, 4, modulo 5) : 1\n",
      "round(3.5, 1) : 3.5\n"
     ]
    }
   ],
   "source": [
    "print('-5의 절대값 :', abs(-5), end='\\t\\t')\n",
    "print('divmod(7, 4) :', divmod(7,4))\n",
    "print('pow(7, 4) :', pow(7,4), end='\\t')\n",
    "print('pow(7, 4, modulo 5) :', pow(7, 4, mod=5))\n",
    "print('round(3.5, 1) :', round(3.5, 1))"
   ]
  },
  {
   "cell_type": "markdown",
   "id": "4bafeb66",
   "metadata": {},
   "source": [
    "비트연산자는......................................."
   ]
  },
  {
   "cell_type": "code",
   "execution_count": 72,
   "id": "f5b9fb20",
   "metadata": {},
   "outputs": [
    {
     "name": "stdout",
     "output_type": "stream",
     "text": [
      "0b101\n",
      "0b1010 10\n",
      "0b10100 20\n",
      "0b10 2\n"
     ]
    }
   ],
   "source": [
    "print(bin(5))\n",
    "print(bin(5<<1), 5<<1)\n",
    "print(bin(5<<2), 5<<2)\n",
    "print(bin(4>>1), 4>>1)"
   ]
  },
  {
   "cell_type": "markdown",
   "id": "7f6f4fae",
   "metadata": {},
   "source": [
    "비교연산자는...................."
   ]
  },
  {
   "cell_type": "markdown",
   "id": "da55f7a3",
   "metadata": {},
   "source": [
    "## Conditionals and Control Flow\n"
   ]
  },
  {
   "cell_type": "markdown",
   "id": "d3978d91",
   "metadata": {},
   "source": [
    "`while`과 `if-else`문은 반복과 조건문 코드를 시행하기 위해 사용됩니다. `if-else`문에서 `else`문은 없어도 됩니다. 여러 케이스를 만들 경우 `elif`문을 사용하면 됩니다. 만약 비어있는 구문을 만들고 싶으면 `pass` 명령문을 사용합니다."
   ]
  },
  {
   "cell_type": "code",
   "execution_count": 101,
   "id": "5d60e1a9",
   "metadata": {},
   "outputs": [
    {
     "name": "stdout",
     "output_type": "stream",
     "text": [
      "6 is bigger than 5\n"
     ]
    }
   ],
   "source": [
    "if 6 < 4:\n",
    "    pass\n",
    "elif 5 < 6:\n",
    "    print('6 is bigger than 5')\n",
    "else:\n",
    "    raise RuntimeError('???????')"
   ]
  },
  {
   "cell_type": "markdown",
   "id": "e6f2ccb9",
   "metadata": {},
   "source": [
    "변수를 할당할 때 조건문을 사용할 수도 있습니다. 아래의 `# code1`은 `# code2`로 풀어쓸 수 있습니다."
   ]
  },
  {
   "cell_type": "code",
   "execution_count": null,
   "id": "7b6e7285",
   "metadata": {},
   "outputs": [],
   "source": [
    "# code1\n",
    "maxval = 6 if 6 > 7 else 7\n",
    "\n",
    "# code2\n",
    "if 6 > 7:\n",
    "    maxval = 6\n",
    "else:\n",
    "    maxval = 7"
   ]
  },
  {
   "cell_type": "markdown",
   "id": "3e192f38",
   "metadata": {},
   "source": [
    "할당 표현식으로 알려진 `:=`연산자(walrus operator)를 사용할 수도 있습니다. 이 연산자를 사용할 땐 `()` 표시를 꼭 사용해야 하며, 주어진 연산 후 조건식에 대입되어 참/거짓을 판별합니다. "
   ]
  },
  {
   "cell_type": "code",
   "execution_count": 112,
   "id": "7ce8ff98",
   "metadata": {
    "scrolled": false
   },
   "outputs": [
    {
     "name": "stdout",
     "output_type": "stream",
     "text": [
      "1\n",
      "2\n"
     ]
    }
   ],
   "source": [
    "y = 0\n",
    "while (y := y+1) < 3:\n",
    "        print(y)"
   ]
  },
  {
   "cell_type": "markdown",
   "id": "c2f6a060",
   "metadata": {},
   "source": [
    "`break`문은 반복문을 일찍 끝내기 위해 사용됩니다. 가장 안쪽 반복문에만 적용하며, 반복문을 아예 끝내고 탈출하여 다음 명령으로 옮겨갑니다."
   ]
  },
  {
   "cell_type": "code",
   "execution_count": 113,
   "id": "5932464b",
   "metadata": {},
   "outputs": [
    {
     "name": "stdout",
     "output_type": "stream",
     "text": [
      "0\n",
      "Done\n"
     ]
    }
   ],
   "source": [
    "x = 0\n",
    "while x < 3:\n",
    "    if x == 1:\n",
    "        break\n",
    "    print(x)\n",
    "    x += 1\n",
    "print('Done')"
   ]
  },
  {
   "cell_type": "markdown",
   "id": "129da288",
   "metadata": {},
   "source": [
    "`continue`문은 이후 반복문을 건너뛰고 다시 반복문의 맨 첫단계로 돌아가 다음 반복을 시작할 때 사용합니다."
   ]
  },
  {
   "cell_type": "code",
   "execution_count": 114,
   "id": "574bc16f",
   "metadata": {},
   "outputs": [
    {
     "name": "stdout",
     "output_type": "stream",
     "text": [
      "2\n",
      "3\n",
      "Done\n"
     ]
    }
   ],
   "source": [
    "x = 0\n",
    "while x < 3:\n",
    "    x += 1\n",
    "    if x == 1:\n",
    "        continue\n",
    "    print(x)\n",
    "print('Done')"
   ]
  },
  {
   "cell_type": "markdown",
   "id": "5f1535e6",
   "metadata": {},
   "source": [
    "## Text Strings"
   ]
  },
  {
   "cell_type": "markdown",
   "id": "288c4284",
   "metadata": {},
   "source": [
    "## File Input and Output"
   ]
  },
  {
   "cell_type": "markdown",
   "id": "9befbcd3",
   "metadata": {},
   "source": [
    "아래 코드는 기존에 존재하는 파일을 열고 그 내용을 한 줄씩 읽어옵니다. `end=''`은 추가되는 새로운 줄을 생략합니다.   \n",
    "`open()` 함수는 새로운 파일 객체를 반환합니다. `with`문은 그 파일이 사용될 구문을 선언합니다. 이 구문에 대한 제어가 끝나면, 파일은 자동적으로 닫힙니다."
   ]
  },
  {
   "cell_type": "code",
   "execution_count": 132,
   "id": "23e2cd5c",
   "metadata": {},
   "outputs": [
    {
     "name": "stdout",
     "output_type": "stream",
     "text": [
      "Hello\n",
      "World\n"
     ]
    }
   ],
   "source": [
    "with open('data.txt') as file:\n",
    "    for line in file:\n",
    "        print(line, end='')"
   ]
  },
  {
   "cell_type": "markdown",
   "id": "256816b3",
   "metadata": {},
   "source": [
    "`with`문을 사용하지 않는 코드는 아래와 같습니다.   \n",
    "`file.close()` 명령을 호출하는 과정을 까먹기 쉬우므로 보통 `with`문을 사용하여 파일이 닫히도록 하는 것이 좋습니다."
   ]
  },
  {
   "cell_type": "code",
   "execution_count": null,
   "id": "73641cca",
   "metadata": {},
   "outputs": [],
   "source": [
    "file = open('data.txt')\n",
    "for line in file:\n",
    "    print(line, end='')\n",
    "file.close()"
   ]
  },
  {
   "cell_type": "markdown",
   "id": "cd499b4b",
   "metadata": {},
   "source": [
    "위의 코드들에서 `for`반복문은 파일에 더 이상 불러들일 데이터가 없을 때까지 한 줄씩 순회합니다.   \n",
    "파일의 전체 내용을 한번에 불러오고 싶으면 `read()` 메소드를 사용합니다.   \n",
    "큰 파일을 조각내 읽고 싶으면 `read()` 메소드에 사이즈를 설정해줍니다."
   ]
  },
  {
   "cell_type": "code",
   "execution_count": 159,
   "id": "e78b9624",
   "metadata": {},
   "outputs": [
    {
     "data": {
      "text/plain": [
       "'Hello Hello Hello Hello\\nWorld World WORLD\\n'"
      ]
     },
     "execution_count": 159,
     "metadata": {},
     "output_type": "execute_result"
    }
   ],
   "source": [
    "with open('data.txt') as file:\n",
    "    data = file.read()\n",
    "data"
   ]
  },
  {
   "cell_type": "code",
   "execution_count": 165,
   "id": "36de4ada",
   "metadata": {},
   "outputs": [
    {
     "name": "stdout",
     "output_type": "stream",
     "text": [
      "Hell  o He  llo   Hell  o He  llo\n",
      "  Worl  d Wo  rld   WORL  D\n",
      "  "
     ]
    }
   ],
   "source": [
    "with open('data.txt') as file:\n",
    "    while (chunk := file.read(4)):\n",
    "        print(chunk, end='  ')"
   ]
  },
  {
   "cell_type": "markdown",
   "id": "47ffe5d3",
   "metadata": {},
   "source": [
    "코드의 출력물을 파일로 저장하고 싶으면 `open()` 함수에 `'wt'` 변수를 추가하고, `print()` 함수에 `file` 변수를 추가합니다.   `print()` 함수 대신에 `write()` 메소드를 사용하여 `# code2`처럼 작성하여도 됩니다."
   ]
  },
  {
   "cell_type": "code",
   "execution_count": 168,
   "id": "63d31aa8",
   "metadata": {},
   "outputs": [],
   "source": [
    "principal = 1000\n",
    "rate = 0.05\n",
    "numyears = 3\n",
    "year = 1\n",
    "\n",
    "with open('out.txt', 'wt') as out:\n",
    "    while year <= numyears:\n",
    "        principal *= (1+rate)\n",
    "        print(f'{year:>3d} {principal:0.2f}', file=out)\n",
    "        # code2\n",
    "        out.write(f'{year:>3d} {principal:0.2f}\\n')\n",
    "        year += 1"
   ]
  },
  {
   "cell_type": "markdown",
   "id": "2a71c884",
   "metadata": {},
   "source": [
    "키보드를 통해 대화식으로 입력된 데이터를 읽고 싶을 땐 `input()` 함수를 사용합니다. 아래 결과의 'woowoowo'가 직접 입력한 내용입니다."
   ]
  },
  {
   "cell_type": "code",
   "execution_count": 174,
   "id": "56528903",
   "metadata": {},
   "outputs": [
    {
     "name": "stdout",
     "output_type": "stream",
     "text": [
      "Enter your name :woowoowo\n",
      "Hello woowoowo\n"
     ]
    }
   ],
   "source": [
    "name = input('Enter your name :')\n",
    "print('Hello', name)"
   ]
  },
  {
   "cell_type": "markdown",
   "id": "bb031d1a",
   "metadata": {},
   "source": [
    "## Lists"
   ]
  },
  {
   "cell_type": "code",
   "execution_count": 178,
   "id": "3dcf0e79",
   "metadata": {},
   "outputs": [],
   "source": [
    "rows = []\n",
    "with open('out.txt', 'rt') as file:\n",
    "    for line in file:\n",
    "        rows.append(line.split())"
   ]
  },
  {
   "cell_type": "code",
   "execution_count": 179,
   "id": "f6cb5502",
   "metadata": {},
   "outputs": [
    {
     "data": {
      "text/plain": [
       "[['1', '1050.00'],\n",
       " ['1', '1050.00'],\n",
       " ['2', '1102.50'],\n",
       " ['2', '1102.50'],\n",
       " ['3', '1157.62'],\n",
       " ['3', '1157.62']]"
      ]
     },
     "execution_count": 179,
     "metadata": {},
     "output_type": "execute_result"
    }
   ],
   "source": [
    "rows"
   ]
  },
  {
   "cell_type": "markdown",
   "id": "df1ecd56",
   "metadata": {},
   "source": [
    "## Tuples"
   ]
  },
  {
   "cell_type": "markdown",
   "id": "3cddabb3",
   "metadata": {},
   "source": [
    "파이썬에서 tuple은 변경이 불가능하다."
   ]
  },
  {
   "cell_type": "code",
   "execution_count": 186,
   "id": "76c3c9bf",
   "metadata": {},
   "outputs": [],
   "source": [
    "s = set('a')"
   ]
  },
  {
   "cell_type": "code",
   "execution_count": 188,
   "id": "71419a4f",
   "metadata": {},
   "outputs": [],
   "source": [
    "s.add(('b','c'))"
   ]
  },
  {
   "cell_type": "code",
   "execution_count": 190,
   "id": "a95f952b",
   "metadata": {},
   "outputs": [],
   "source": [
    "s.remove(('b','c'))"
   ]
  },
  {
   "cell_type": "code",
   "execution_count": 192,
   "id": "0adbc730",
   "metadata": {},
   "outputs": [],
   "source": [
    "s.update({'b','c'})"
   ]
  },
  {
   "cell_type": "code",
   "execution_count": 194,
   "id": "86f2d8c7",
   "metadata": {},
   "outputs": [],
   "source": [
    "s.discard('d')"
   ]
  },
  {
   "cell_type": "markdown",
   "id": "bd8ef4f6",
   "metadata": {},
   "source": [
    "## Sets"
   ]
  },
  {
   "cell_type": "markdown",
   "id": "a39e1713",
   "metadata": {},
   "source": [
    "## Dictionaries\n",
    "딕셔너리는 키(keys)와 값(values)을 맵핑시킨 객체이며, `{}`안에 키와 값을 `:`로 분리시켜 생성한다.   \n",
    "딕셔너리의 원소에 접근할 땐 `dictionary[key]`의 형태로 값을 불러올 수 있으며, 같은 방식으로 변경과 추가도 가능하다. 키의 타입은 문자열 외에도 숫자나 튜플, 같은 객체도 사용 가능하지만 가변객체는 사용할 수 없습니다. 값으로는 모든 객체를 사용할 수 있습니다."
   ]
  },
  {
   "cell_type": "code",
   "execution_count": 2,
   "id": "f553761c",
   "metadata": {},
   "outputs": [
    {
     "name": "stdout",
     "output_type": "stream",
     "text": [
      "GOOG 49010.0\n"
     ]
    }
   ],
   "source": [
    "# dictionary 정의 / 값 접근\n",
    "dic = {'name' : 'GOOG',\n",
    "     'shares' : 100,\n",
    "     'price' : 490.10}\n",
    "name = dic['name']\n",
    "cost = dic['shares'] * dic['price']\n",
    "print(name, cost)"
   ]
  },
  {
   "cell_type": "code",
   "execution_count": 3,
   "id": "71071924",
   "metadata": {},
   "outputs": [
    {
     "data": {
      "text/plain": [
       "{'name': 'GOOG', 'shares': 75, 'price': 490.1, 'date': '2022-06-29'}"
      ]
     },
     "execution_count": 3,
     "metadata": {},
     "output_type": "execute_result"
    }
   ],
   "source": [
    "# dictionary 값 변경 / 추가\n",
    "dic['shares'] = 75\n",
    "dic['date'] = '2022-06-29'\n",
    "dic"
   ]
  },
  {
   "cell_type": "code",
   "execution_count": 5,
   "id": "ef33f3c5",
   "metadata": {},
   "outputs": [
    {
     "data": {
      "text/plain": [
       "{'name': 'GOOG', 'shares': 75, 'price': 490.1}"
      ]
     },
     "execution_count": 5,
     "metadata": {},
     "output_type": "execute_result"
    }
   ],
   "source": [
    "# dictionary 원소 삭제\n",
    "del dic['date']\n",
    "dic"
   ]
  },
  {
   "cell_type": "markdown",
   "id": "738c49d0",
   "metadata": {},
   "source": [
    "`dictionary.get()` 메소드는 주어진 키를 확인하여 키가 있으면 해당하는 값을, 없으면 입력된 값을 할당하는 메소드입니다."
   ]
  },
  {
   "cell_type": "code",
   "execution_count": 6,
   "id": "73717bd2",
   "metadata": {},
   "outputs": [
    {
     "name": "stdout",
     "output_type": "stream",
     "text": [
      "490.1 2022-06-29\n"
     ]
    }
   ],
   "source": [
    "p = dic.get('price', 0.0)\n",
    "d = dic.get('date', '2022-06-29')\n",
    "print(p,d)"
   ]
  },
  {
   "cell_type": "code",
   "execution_count": null,
   "id": "093c69e8",
   "metadata": {},
   "outputs": [],
   "source": [
    "딕셔너리는 표와 같은 데이터 핸들링 문제나 다양한 알고리즘에서 구성 요소로 사용됩니다."
   ]
  },
  {
   "cell_type": "code",
   "execution_count": 9,
   "id": "309f7e62",
   "metadata": {},
   "outputs": [],
   "source": [
    "portfolio = [\n",
    "('ACME', 50, 92.34),\n",
    "('IBM', 75, 102.25),\n",
    "('PHP', 40, 74.50),\n",
    "('IBM', 50, 124.75)\n",
    "]"
   ]
  },
  {
   "cell_type": "code",
   "execution_count": 15,
   "id": "0ef29fc0",
   "metadata": {},
   "outputs": [],
   "source": [
    "total_share = {s[0]: 0 for s in portfolio} # dictionary comprehension\n",
    "for name, shares, _ in portfolio:\n",
    "    total_share[name] += shares"
   ]
  },
  {
   "cell_type": "code",
   "execution_count": 16,
   "id": "d80f7df2",
   "metadata": {},
   "outputs": [
    {
     "data": {
      "text/plain": [
       "{'ACME': 50, 'IBM': 125, 'PHP': 40}"
      ]
     },
     "execution_count": 16,
     "metadata": {},
     "output_type": "execute_result"
    }
   ],
   "source": [
    "total_share"
   ]
  },
  {
   "cell_type": "code",
   "execution_count": 17,
   "id": "aded6590",
   "metadata": {},
   "outputs": [
    {
     "data": {
      "text/plain": [
       "Counter({'ACME': 50, 'IBM': 125, 'PHP': 40})"
      ]
     },
     "execution_count": 17,
     "metadata": {},
     "output_type": "execute_result"
    }
   ],
   "source": [
    "from collections import Counter\n",
    "\n",
    "total_share = Counter()\n",
    "for name, shares, _ in portfolio:\n",
    "    total_share[name] += shares\n",
    "total_share"
   ]
  },
  {
   "cell_type": "code",
   "execution_count": 20,
   "id": "c0c7b446",
   "metadata": {},
   "outputs": [],
   "source": [
    "dic_list = list(dic)"
   ]
  },
  {
   "cell_type": "code",
   "execution_count": 21,
   "id": "47647977",
   "metadata": {},
   "outputs": [
    {
     "data": {
      "text/plain": [
       "['name', 'shares', 'price']"
      ]
     },
     "execution_count": 21,
     "metadata": {},
     "output_type": "execute_result"
    }
   ],
   "source": [
    "dic_list"
   ]
  },
  {
   "cell_type": "code",
   "execution_count": 26,
   "id": "11e4f262",
   "metadata": {},
   "outputs": [],
   "source": [
    "dic_list2 = dic.keys()"
   ]
  },
  {
   "cell_type": "code",
   "execution_count": 27,
   "id": "53d5b5b1",
   "metadata": {},
   "outputs": [],
   "source": [
    "dic['hello'] = 'hi'"
   ]
  },
  {
   "cell_type": "code",
   "execution_count": 28,
   "id": "a49e59c1",
   "metadata": {},
   "outputs": [
    {
     "data": {
      "text/plain": [
       "['name', 'shares', 'price']"
      ]
     },
     "execution_count": 28,
     "metadata": {},
     "output_type": "execute_result"
    }
   ],
   "source": [
    "dic_list"
   ]
  },
  {
   "cell_type": "code",
   "execution_count": 31,
   "id": "ff2c55cd",
   "metadata": {},
   "outputs": [
    {
     "data": {
      "text/plain": [
       "dict_keys(['name', 'shares', 'price', 'hello'])"
      ]
     },
     "execution_count": 31,
     "metadata": {},
     "output_type": "execute_result"
    }
   ],
   "source": [
    "dic_list2"
   ]
  },
  {
   "cell_type": "code",
   "execution_count": 32,
   "id": "fe663940",
   "metadata": {},
   "outputs": [
    {
     "name": "stdout",
     "output_type": "stream",
     "text": [
      "name = GOOG\n",
      "shares = 75\n",
      "price = 490.1\n",
      "hello = hi\n"
     ]
    }
   ],
   "source": [
    "for a,b in dic.items():\n",
    "    print(f'{a} = {b}')"
   ]
  },
  {
   "cell_type": "markdown",
   "id": "f8a0da4d",
   "metadata": {},
   "source": [
    "## Iteration and Looping"
   ]
  },
  {
   "cell_type": "markdown",
   "id": "12ce6eeb",
   "metadata": {},
   "source": [
    "가장 많이 사용되는 반복 구조는 아이템 모음을 순회하는 `for`문입니다."
   ]
  },
  {
   "cell_type": "code",
   "execution_count": 34,
   "id": "d316a931",
   "metadata": {},
   "outputs": [
    {
     "name": "stdout",
     "output_type": "stream",
     "text": [
      "2 to the 1 power is 2\n",
      "2 to the 2 power is 4\n",
      "2 to the 3 power is 8\n",
      "2 to the 4 power is 16\n"
     ]
    }
   ],
   "source": [
    "for n in [1,2,3,4]:\n",
    "    print('2 to the {} power is {}'.format(n, 2**n))"
   ]
  },
  {
   "cell_type": "code",
   "execution_count": 46,
   "id": "6ac7ada7",
   "metadata": {},
   "outputs": [
    {
     "name": "stdout",
     "output_type": "stream",
     "text": [
      "14 12 10 8 6 4 2 "
     ]
    }
   ],
   "source": [
    "for i in range(14,0,-2):\n",
    "    print(i, end=' ')"
   ]
  }
 ],
 "metadata": {
  "kernelspec": {
   "display_name": "Python 3 (ipykernel)",
   "language": "python",
   "name": "python3"
  },
  "language_info": {
   "codemirror_mode": {
    "name": "ipython",
    "version": 3
   },
   "file_extension": ".py",
   "mimetype": "text/x-python",
   "name": "python",
   "nbconvert_exporter": "python",
   "pygments_lexer": "ipython3",
   "version": "3.9.7"
  }
 },
 "nbformat": 4,
 "nbformat_minor": 5
}
