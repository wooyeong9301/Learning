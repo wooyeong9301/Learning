{
 "cells": [
  {
   "cell_type": "code",
   "execution_count": 13,
   "id": "a248fb97",
   "metadata": {},
   "outputs": [
    {
     "name": "stdout",
     "output_type": "stream",
     "text": [
      "[4.2, 3.85, 3.5, 3.1500000000000004, 2.8000000000000003, 2.45, 2.1, 1.75, 1.4000000000000004, 1.0500000000000003, 0.7000000000000002, 0.3500000000000001]\n"
     ]
    }
   ],
   "source": [
    "rate_list = []\n",
    "for i in range(12):\n",
    "    rate_list.append(4.2-round((4.2/12)*i,3))\n",
    "print(rate_list)"
   ]
  },
  {
   "cell_type": "code",
   "execution_count": 24,
   "id": "8eb81a17",
   "metadata": {},
   "outputs": [],
   "source": [
    "rate = []\n",
    "for i in range(12):\n",
    "    rate.append(rate_list[i]/100)\n",
    "    rate[i] += 1"
   ]
  },
  {
   "cell_type": "code",
   "execution_count": 49,
   "id": "36364a08",
   "metadata": {},
   "outputs": [
    {
     "name": "stdout",
     "output_type": "stream",
     "text": [
      "2084000.0\n",
      "1028115.0\n",
      "10350.0\n",
      "3073870.0000000005\n",
      "10280.0\n",
      "10245.0\n"
     ]
    }
   ],
   "source": [
    "print(2000000*rate[0])\n",
    "print(990000*rate[1])\n",
    "print(10000*rate[2])\n",
    "print(2980000*rate[3])\n",
    "print(10000*rate[4])\n",
    "print(10000*rate[5])\n",
    "won1 = [2200000, 790000, 10000, 2980000, 10000, 10000, 10000,10000,10000,10000,10000,10000]\n",
    "won2 = [2980000, 10000, 10000, 2980000, 10000, 10000, 10000,10000,10000,10000,10000,10000]\n",
    "won3 = [1000000, 1000000, 1000000, 1000000, 1000000, 1000000, 10000,10000,10000,10000,10000,10000]\n",
    "won4 = [1000000, 1000000, 1000000, 1000000, 1000000, 1000000, 1000000, 1000000, 1000000, 1000000, 1000000, 1000000]\n",
    "won5 = [2000000, 990000, 10000, 2000000, 990000, 10000, 10000,10000,10000,10000,10000,10000]\n",
    "won6 = [2000000, 990000, 10000, 2000000, 990000, 10000, 2000000, 990000, 10000,2000000, 990000,10000]\n",
    "won7 = [2980000, 10000, 10000, 2980000, 10000, 10000, 2980000, 10000, 10000,2980000, 10000,10000]\n",
    "\n",
    "won_list = [won1, won2, won3, won4, won5, won6, won7]"
   ]
  },
  {
   "cell_type": "code",
   "execution_count": 50,
   "id": "4d6b91be",
   "metadata": {},
   "outputs": [
    {
     "name": "stdout",
     "output_type": "stream",
     "text": [
      "6278295.0\n",
      "6281025.0\n",
      "6260235.0\n",
      "12273000.0\n",
      "6274165.0\n",
      "12300860.0\n",
      "12314580.0\n"
     ]
    }
   ],
   "source": [
    "\n",
    "for won in won_list:\n",
    "    gkq = 0\n",
    "    for i in range(12):\n",
    "        gkq += won[i]*rate[i]\n",
    "    print(gkq)"
   ]
  },
  {
   "cell_type": "code",
   "execution_count": 44,
   "id": "cd7fd9d0",
   "metadata": {},
   "outputs": [
    {
     "name": "stdout",
     "output_type": "stream",
     "text": [
      "6277595.0 6281025.0 6260235.0 12273000.0\n"
     ]
    }
   ],
   "source": [
    "print(sum, sum2, sum3, sum4)"
   ]
  },
  {
   "cell_type": "code",
   "execution_count": null,
   "id": "52d0f55b",
   "metadata": {},
   "outputs": [],
   "source": []
  }
 ],
 "metadata": {
  "kernelspec": {
   "display_name": "Python 3 (ipykernel)",
   "language": "python",
   "name": "python3"
  },
  "language_info": {
   "codemirror_mode": {
    "name": "ipython",
    "version": 3
   },
   "file_extension": ".py",
   "mimetype": "text/x-python",
   "name": "python",
   "nbconvert_exporter": "python",
   "pygments_lexer": "ipython3",
   "version": "3.9.7"
  }
 },
 "nbformat": 4,
 "nbformat_minor": 5
}
