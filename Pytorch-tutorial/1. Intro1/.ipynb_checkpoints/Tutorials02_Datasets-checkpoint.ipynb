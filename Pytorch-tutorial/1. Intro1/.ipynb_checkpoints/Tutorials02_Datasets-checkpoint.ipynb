{
 "cells": [
  {
   "cell_type": "markdown",
   "id": "9fc854e8",
   "metadata": {},
   "source": [
    "# Datasets & Dataloaders\n",
    "Pytorch provides two data primitives :   \n",
    "`torch.utils.data.Dataloader` and `torch.utils.data.Dataset`\n",
    "## Loading a Dataset\n",
    "- `root` is the path where the data is stored\n",
    "- `train` specifies training or test dataset\n",
    "- `download=True` download from the internet if it's not available at `root`\n",
    "- `transform`, `target_transform` specify the feature and label transformations"
   ]
  },
  {
   "cell_type": "code",
   "execution_count": 1,
   "id": "49781815",
   "metadata": {},
   "outputs": [],
   "source": [
    "import torch\n",
    "from torch.utils.data import Dataset\n",
    "from torchvision import datasets\n",
    "from torchvision.transforms import ToTensor\n",
    "import matplotlib.pyplot as plt"
   ]
  },
  {
   "cell_type": "code",
   "execution_count": 2,
   "id": "977119df",
   "metadata": {},
   "outputs": [],
   "source": [
    "training_data = datasets.FashionMNIST(root='data',\n",
    "                                     train=True, download=True, transform=ToTensor())\n",
    "test_data = datasets.FashionMNIST(root='data',\n",
    "                                 train=False, download=True, transform=ToTensor())"
   ]
  },
  {
   "cell_type": "markdown",
   "id": "7e262eed",
   "metadata": {},
   "source": [
    "## Iterating and Visualizing the Dataset\n",
    "Can index `Datasets` manually like a list."
   ]
  },
  {
   "cell_type": "code",
   "execution_count": 3,
   "id": "81bd4f44",
   "metadata": {},
   "outputs": [
    {
     "data": {
      "image/png": "[encoded data removed]",
      "text/plain": [
       "<Figure size 576x576 with 9 Axes>"
      ]
     },
     "metadata": {
      "needs_background": "light"
     },
     "output_type": "display_data"
    }
   ],
   "source": [
    "labels_map = {0: \"T-Shirt\",\n",
    "              1: \"Trouser\",\n",
    "              2: \"Pullover\",\n",
    "              3: \"Dress\",\n",
    "              4: \"Coat\",\n",
    "              5: \"Sandal\",\n",
    "              6: \"Shirt\",\n",
    "              7: \"Sneaker\",\n",
    "              8: \"Bag\",\n",
    "              9: \"Ankle Boot\",}\n",
    "figure = plt.figure(figsize=(8,8))\n",
    "cols, rows = 3, 3\n",
    "for i in range(1, cols*rows+1):\n",
    "    sample_idx = torch.randint(len(training_data), size=(1,)).item()\n",
    "    img, label = training_data[sample_idx]\n",
    "    figure.add_subplot(rows, cols, i)\n",
    "    plt.title(labels_map[label])\n",
    "    plt.axis('off')\n",
    "    plt.imshow(img.squeeze(), cmap='gray')\n",
    "    \n",
    "plt.show()"
   ]
  },
  {
   "cell_type": "markdown",
   "id": "44d13590",
   "metadata": {},
   "source": [
    "## Creating a Custom Dataset for your files"
   ]
  },
  {
   "cell_type": "code",
   "execution_count": 4,
   "id": "8cdb54d3",
   "metadata": {},
   "outputs": [],
   "source": [
    "import os\n",
    "import pandas as pd\n",
    "from torchvision.io import read_image"
   ]
  },
  {
   "cell_type": "code",
   "execution_count": 5,
   "id": "01485d0a",
   "metadata": {},
   "outputs": [],
   "source": [
    "class CustomImageDataset(Dataset):\n",
    "    def __init__(self, annotations_file, img_dir, transform=None, target_transfrom=None):\n",
    "        self.img_labels = pd.read_csv(annotations_file)\n",
    "        self.img_dir = img_dir\n",
    "        self.transform = transform\n",
    "        self.target_transfrom = target_transfrom\n",
    "        \n",
    "    def __len__(self):\n",
    "        return len(self.img_labels)\n",
    "    \n",
    "    def __getitem__(self, idx):\n",
    "        img_path = os.path.join(self.img_dir, self.img_labels.iloc[idx, 0])\n",
    "        image = read_image(img_path)\n",
    "        label = self.img_labels.iloc[idx, 1]\n",
    "        if self.transform:\n",
    "            image = self.transform(image)\n",
    "        if self.target_transfrom:\n",
    "            label = self.target_transfrom(label)\n",
    "            \n",
    "        return image, label"
   ]
  },
  {
   "cell_type": "markdown",
   "id": "6a603f73",
   "metadata": {},
   "source": [
    "## Preparing data for training with Dataloaders\n",
    "`Dataset` retreives dataset's features and labels one sample at a time.   \n",
    "Pass samples in 'minibatches', reshuffle the data at every epoch, use Python's `multiprocessing` to speed up."
   ]
  },
  {
   "cell_type": "code",
   "execution_count": 6,
   "id": "90a3cae3",
   "metadata": {},
   "outputs": [],
   "source": [
    "from torch.utils.data import DataLoader\n",
    "train_dataloader = DataLoader(training_data, batch_size=64, shuffle=True)\n",
    "test_dataloader = DataLoader(test_data, batch_size=64, shuffle=True)"
   ]
  },
  {
   "cell_type": "markdown",
   "id": "fa7647c6",
   "metadata": {},
   "source": [
    "## Iterate through the Dataloader\n",
    "Each iteration returns a batch of `train_features` and `train_labels`."
   ]
  },
  {
   "cell_type": "code",
   "execution_count": 9,
   "id": "21201e6a",
   "metadata": {},
   "outputs": [
    {
     "name": "stdout",
     "output_type": "stream",
     "text": [
      "Feature batch shape : torch.Size([64, 1, 28, 28])\n",
      "Labels batch shape : torch.Size([64])\n"
     ]
    },
    {
     "data": {
      "image/png": "[encoded data removed]",
      "text/plain": [
       "<Figure size 432x288 with 1 Axes>"
      ]
     },
     "metadata": {
      "needs_background": "light"
     },
     "output_type": "display_data"
    }
   ],
   "source": [
    "train_features, train_labels = next(iter(train_dataloader))\n",
    "print('Feature batch shape : {}'.format(train_features.size()))\n",
    "print('Labels batch shape : {}'.format(train_labels.size()))\n",
    "\n",
    "img = train_features[0].squeeze()\n",
    "label = train_labels[0]\n",
    "plt.imshow(img, cmap='gray')\n",
    "plt.show()"
   ]
  },
  {
   "cell_type": "code",
   "execution_count": null,
   "id": "db695287",
   "metadata": {},
   "outputs": [],
   "source": []
  }
 ],
 "metadata": {
  "kernelspec": {
   "display_name": "Python 3 (ipykernel)",
   "language": "python",
   "name": "python3"
  },
  "language_info": {
   "codemirror_mode": {
    "name": "ipython",
    "version": 3
   },
   "file_extension": ".py",
   "mimetype": "text/x-python",
   "name": "python",
   "nbconvert_exporter": "python",
   "pygments_lexer": "ipython3",
   "version": "3.9.7"
  }
 },
 "nbformat": 4,
 "nbformat_minor": 5
}
