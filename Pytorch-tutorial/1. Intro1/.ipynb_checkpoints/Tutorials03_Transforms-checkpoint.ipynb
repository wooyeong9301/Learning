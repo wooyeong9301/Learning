{
 "cells": [
  {
   "cell_type": "markdown",
   "id": "f61d3855",
   "metadata": {},
   "source": [
    "# Transforms\n",
    "Use **Transforms** to perform some manipulation of the data and make it suitable for training.   \n",
    "Datasets have two parameters - `transform` to modify the features, `target_transform` to modify the labels - that accept callables.   \n",
    "The FashionMNIST features are in PIL and the labels are integers.   \n",
    "Need the features as normalized tensors and the labels as one-hot encoded tensors.   \n",
    "- `ToTensor` : Convert a PIL Image or Numpy `ndarray` into `FloatTensor` and scales the image's pixel intensity values in the range [0.,1.]\n",
    "- `Lambda` : In this case, define a function to turn the integer into a one-hot encoded tensor. First, create a zero tensor, and calls `scatter_` which assigns a `value=1` on the index as given by the label `y`"
   ]
  },
  {
   "cell_type": "code",
   "execution_count": 2,
   "id": "fa0cf798",
   "metadata": {},
   "outputs": [],
   "source": [
    "import torch\n",
    "from torchvision import datasets\n",
    "from torchvision.transforms import ToTensor, Lambda\n",
    "\n",
    "ds = datasets.FashionMNIST(root='data',\n",
    "                          train=True, download=True, transform=ToTensor(),\n",
    "                          target_transform=Lambda(lambda y:torch.zeros(10, dtype=torch.float).scatter_(0, torch.tensor(y), value=1)))"
   ]
  },
  {
   "cell_type": "code",
   "execution_count": 4,
   "id": "e2c60cd6",
   "metadata": {},
   "outputs": [
    {
     "data": {
      "text/plain": [
       "Dataset FashionMNIST\n",
       "    Number of datapoints: 60000\n",
       "    Root location: data\n",
       "    Split: Train\n",
       "    StandardTransform\n",
       "Transform: ToTensor()\n",
       "Target transform: Lambda()"
      ]
     },
     "execution_count": 4,
     "metadata": {},
     "output_type": "execute_result"
    }
   ],
   "source": [
    "ds"
   ]
  },
  {
   "cell_type": "code",
   "execution_count": null,
   "id": "397c66b2",
   "metadata": {},
   "outputs": [],
   "source": []
  }
 ],
 "metadata": {
  "kernelspec": {
   "display_name": "Python 3 (ipykernel)",
   "language": "python",
   "name": "python3"
  },
  "language_info": {
   "codemirror_mode": {
    "name": "ipython",
    "version": 3
   },
   "file_extension": ".py",
   "mimetype": "text/x-python",
   "name": "python",
   "nbconvert_exporter": "python",
   "pygments_lexer": "ipython3",
   "version": "3.9.7"
  }
 },
 "nbformat": 4,
 "nbformat_minor": 5
}
