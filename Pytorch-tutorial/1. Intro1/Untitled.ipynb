{
 "cells": [
  {
   "cell_type": "markdown",
   "id": "66bac2d6",
   "metadata": {},
   "source": [
    "# Build Model\n",
    "`torch.nn` 네임스페이스는 신경망을 구성하는 데 필요한 모든 구성 요소를 제공합니다.   \n",
    "Pytorch의 모든 모듈은 `nn.Module`의 하위 클래스입니다.   \n",
    "신경망은 다른 모듈(layer)로 구성된 모듈입니다.   "
   ]
  },
  {
   "cell_type": "markdown",
   "id": "8497e713",
   "metadata": {},
   "source": [
    "## Get Device for Training"
   ]
  },
  {
   "cell_type": "code",
   "execution_count": 4,
   "id": "eb05bed6",
   "metadata": {},
   "outputs": [
    {
     "name": "stdout",
     "output_type": "stream",
     "text": [
      "Using cuda device\n"
     ]
    }
   ],
   "source": [
    "import os\n",
    "import torch\n",
    "from torch import nn\n",
    "from torch.utils.data import DataLoader\n",
    "from torchvision import datasets, transforms\n",
    "\n",
    "# torch.cuda를 사용할 수 있는지 확인하여 사용하고, 그렇지 않으면 CPU를 계속 사용\n",
    "device = 'cuda' if torch.cuda.is_available() else 'cpu'\n",
    "print('Using {} device'.format(device))"
   ]
  },
  {
   "cell_type": "markdown",
   "id": "6564c96f",
   "metadata": {},
   "source": [
    "## Define the Class\n",
    "`nn.Module`의 하위 클래스로 신경망 모델을 정의, `__init__`에서 계층들을 초기화합니다.   \n",
    "`forward` 메소드에 입력 데이터에 대한 연산들을 구현합니다."
   ]
  },
  {
   "cell_type": "code",
   "execution_count": 9,
   "id": "6b05e9d5",
   "metadata": {},
   "outputs": [
    {
     "name": "stdout",
     "output_type": "stream",
     "text": [
      "NeuralNetwork(\n",
      "  (flatten): Flatten(start_dim=1, end_dim=-1)\n",
      "  (linear_relu_stack): Sequential(\n",
      "    (0): Linear(in_features=784, out_features=512, bias=True)\n",
      "    (1): ReLU()\n",
      "    (2): Linear(in_features=512, out_features=512, bias=True)\n",
      "    (3): ReLU()\n",
      "    (4): Linear(in_features=512, out_features=10, bias=True)\n",
      "  )\n",
      ")\n"
     ]
    }
   ],
   "source": [
    "class NeuralNetwork(nn.Module):\n",
    "    def __init__(self):\n",
    "        super(NeuralNetwork, self).__init__()\n",
    "        self.flatten = nn.Flatten()\n",
    "        self.linear_relu_stack = nn.Sequential(nn.Linear(28*28, 512),\n",
    "                                              nn.ReLU(),\n",
    "                                              nn.Linear(512, 512),\n",
    "                                              nn.ReLU(),\n",
    "                                              nn.Linear(512,10),)\n",
    "        \n",
    "    def forward(self, x):\n",
    "        x = self.flatten(x)\n",
    "        logits = self.linear_relu_stack(x)\n",
    "        return logits\n",
    "        \n",
    "# NeuralNetword의 인스턴스를 생성, device로 이동, 구조 출력\n",
    "model = NeuralNetwork().to(device)\n",
    "print(model)"
   ]
  },
  {
   "cell_type": "code",
   "execution_count": 10,
   "id": "b44430b1",
   "metadata": {},
   "outputs": [
    {
     "name": "stdout",
     "output_type": "stream",
     "text": [
      "Predicted class : tensor([8], device='cuda:0')\n"
     ]
    }
   ],
   "source": [
    "# 입력 데이터 전달, foward 실행\n",
    "# model.forward()를 직접 호출하지 않는다.\n",
    "# 반환되는 raw 예측값의 10차원 tensor를 nn.softmax 모듈의 인스턴스로 예측 확률을 얻는다.\n",
    "\n",
    "X = torch.rand(1, 28, 28, device=device)\n",
    "logits = model(X)\n",
    "pred_probab = nn.Softmax(dim=1)(logits)\n",
    "y_pred = pred_probab.argmax(1)\n",
    "print('Predicted class : {}'.format(y_pred))"
   ]
  },
  {
   "cell_type": "markdown",
   "id": "4d76f96f",
   "metadata": {},
   "source": [
    "## Model Layers\n",
    "28x28 이미지 3개로 구성된 미니배치로 layer 통과 과정 확인"
   ]
  },
  {
   "cell_type": "code",
   "execution_count": 11,
   "id": "ed7c6784",
   "metadata": {},
   "outputs": [
    {
     "name": "stdout",
     "output_type": "stream",
     "text": [
      "torch.Size([3, 28, 28])\n"
     ]
    }
   ],
   "source": [
    "input_image = torch.rand(3,28,28)\n",
    "print(input_image.size())"
   ]
  },
  {
   "cell_type": "markdown",
   "id": "9e46994f",
   "metadata": {},
   "source": [
    "`nn.Flatten` : 계층을 초기화하여 28x28dml 2D 이미지를 784픽셀의 연속된 배열로 변환"
   ]
  },
  {
   "cell_type": "code",
   "execution_count": 13,
   "id": "1ef6e405",
   "metadata": {},
   "outputs": [
    {
     "name": "stdout",
     "output_type": "stream",
     "text": [
      "torch.Size([3, 784])\n"
     ]
    }
   ],
   "source": [
    "flatten = nn.Flatten()\n",
    "flat_image = flatten(input_image)\n",
    "print(flat_image.size())"
   ]
  },
  {
   "cell_type": "markdown",
   "id": "1f892595",
   "metadata": {},
   "source": [
    "`nn.Linear` : 선형 계층은 저장된 가중치와 편향을 사용해 입력에 선형 변환을 적용한다."
   ]
  },
  {
   "cell_type": "code",
   "execution_count": 14,
   "id": "5ae24e60",
   "metadata": {},
   "outputs": [
    {
     "name": "stdout",
     "output_type": "stream",
     "text": [
      "torch.Size([3, 20])\n"
     ]
    }
   ],
   "source": [
    "layer1 = nn.Linear(in_features=28*28, out_features=20)\n",
    "hidden1 = layer1(flat_image)\n",
    "print(hidden1.size())"
   ]
  },
  {
   "cell_type": "markdown",
   "id": "2d6ac959",
   "metadata": {},
   "source": [
    "`nn,ReLU` : 비선형 활성화, 선형 변환 후에 적용되어 비선현성을 도입하고, 신경망이 다양한 현상을 학습할 수 있도록 한다."
   ]
  },
  {
   "cell_type": "code",
   "execution_count": 17,
   "id": "0e84337b",
   "metadata": {},
   "outputs": [
    {
     "name": "stdout",
     "output_type": "stream",
     "text": [
      "Before ReLU : tensor([[-0.0603, -0.2772, -0.0866, -0.0522, -0.0917,  0.1222,  0.1541,  0.0897,\n",
      "         -0.0312, -0.4425, -0.7394,  0.6272,  0.1084,  0.1018,  0.0435, -0.3814,\n",
      "         -0.3441, -0.2353,  0.1185,  0.0511],\n",
      "        [-0.0278, -0.0616,  0.0305, -0.2857,  0.1366, -0.0673,  0.1572, -0.0147,\n",
      "          0.0367, -0.0586, -0.6042,  0.3129, -0.3443, -0.0043, -0.1558, -0.2895,\n",
      "         -0.1686, -0.1591, -0.2790,  0.3854],\n",
      "        [-0.0360, -0.2193,  0.0241, -0.0498,  0.0528, -0.0087,  0.0893,  0.0914,\n",
      "         -0.0045, -0.1716, -0.5014,  0.3048, -0.1394, -0.1220, -0.2243, -0.2069,\n",
      "         -0.1423, -0.0178, -0.1986, -0.0836]], grad_fn=<AddmmBackward0>)\n",
      "\n",
      "After ReLU : tensor([[0.0000, 0.0000, 0.0000, 0.0000, 0.0000, 0.1222, 0.1541, 0.0897, 0.0000,\n",
      "         0.0000, 0.0000, 0.6272, 0.1084, 0.1018, 0.0435, 0.0000, 0.0000, 0.0000,\n",
      "         0.1185, 0.0511],\n",
      "        [0.0000, 0.0000, 0.0305, 0.0000, 0.1366, 0.0000, 0.1572, 0.0000, 0.0367,\n",
      "         0.0000, 0.0000, 0.3129, 0.0000, 0.0000, 0.0000, 0.0000, 0.0000, 0.0000,\n",
      "         0.0000, 0.3854],\n",
      "        [0.0000, 0.0000, 0.0241, 0.0000, 0.0528, 0.0000, 0.0893, 0.0914, 0.0000,\n",
      "         0.0000, 0.0000, 0.3048, 0.0000, 0.0000, 0.0000, 0.0000, 0.0000, 0.0000,\n",
      "         0.0000, 0.0000]], grad_fn=<ReluBackward0>)\n"
     ]
    }
   ],
   "source": [
    "print('Before ReLU : {}\\n'.format(hidden1))\n",
    "hidden1 = nn.ReLU()(hidden1)\n",
    "print('After ReLU : {}'.format(hidden1))"
   ]
  },
  {
   "cell_type": "markdown",
   "id": "bdf49825",
   "metadata": {},
   "source": [
    "`nn.Sequential` : 순서를 갖는 모듈의 컨테이너, 데이터는 정의된 순서로 모든 모듈 통해 전달, 아래의 `seq_modules`와 같은 신경망을 빠르게 만들 수 있습니다."
   ]
  },
  {
   "cell_type": "code",
   "execution_count": 19,
   "id": "9328218c",
   "metadata": {},
   "outputs": [],
   "source": [
    "seq_modules = nn.Sequential(flatten, layer1, nn.ReLU(), nn.Linear(20,10))\n",
    "input_image = torch.rand(3, 28, 28)\n",
    "logits = seq_modules(input_image)"
   ]
  },
  {
   "cell_type": "code",
   "execution_count": 21,
   "id": "efe605d8",
   "metadata": {},
   "outputs": [
    {
     "data": {
      "text/plain": [
       "tensor([[ 0.0555, -0.0280, -0.2424, -0.3143, -0.1710, -0.2280, -0.2483, -0.2213,\n",
       "         -0.0408,  0.0155],\n",
       "        [ 0.0440, -0.0142, -0.2647, -0.3323, -0.1997, -0.1686, -0.1987, -0.2953,\n",
       "          0.0501, -0.0658],\n",
       "        [ 0.0009, -0.0671, -0.1887, -0.3370, -0.1911, -0.1058, -0.1322, -0.2829,\n",
       "          0.1342, -0.1364]], grad_fn=<AddmmBackward0>)"
      ]
     },
     "execution_count": 21,
     "metadata": {},
     "output_type": "execute_result"
    }
   ],
   "source": [
    "logits"
   ]
  },
  {
   "cell_type": "code",
   "execution_count": null,
   "id": "8c5d9732",
   "metadata": {},
   "outputs": [],
   "source": []
  }
 ],
 "metadata": {
  "kernelspec": {
   "display_name": "Python 3 (ipykernel)",
   "language": "python",
   "name": "python3"
  },
  "language_info": {
   "codemirror_mode": {
    "name": "ipython",
    "version": 3
   },
   "file_extension": ".py",
   "mimetype": "text/x-python",
   "name": "python",
   "nbconvert_exporter": "python",
   "pygments_lexer": "ipython3",
   "version": "3.9.7"
  }
 },
 "nbformat": 4,
 "nbformat_minor": 5
}
